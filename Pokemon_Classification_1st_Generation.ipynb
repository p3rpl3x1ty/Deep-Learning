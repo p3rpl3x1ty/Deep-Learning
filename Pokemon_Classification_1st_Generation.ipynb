{
  "nbformat": 4,
  "nbformat_minor": 0,
  "metadata": {
    "colab": {
      "name": "Pokemon-Classification-1st-Generation.ipynb",
      "provenance": [],
      "collapsed_sections": [],
      "machine_shape": "hm",
      "mount_file_id": "1IG4YEGGBO3Bi40m0mCwaBciJbwc1aR6M",
      "authorship_tag": "ABX9TyMnF+y9xAY42X0fZL4pxLuU",
      "include_colab_link": true
    },
    "kernelspec": {
      "name": "python3",
      "display_name": "Python 3"
    },
    "language_info": {
      "name": "python"
    },
    "accelerator": "GPU"
  },
  "cells": [
    {
      "cell_type": "markdown",
      "metadata": {
        "id": "view-in-github",
        "colab_type": "text"
      },
      "source": [
        "<a href=\"https://colab.research.google.com/github/p3rpl3x1ty/Deep-Learning/blob/main/Pokemon_Classification_1st_Generation.ipynb\" target=\"_parent\"><img src=\"https://colab.research.google.com/assets/colab-badge.svg\" alt=\"Open In Colab\"/></a>"
      ]
    },
    {
      "cell_type": "code",
      "metadata": {
        "id": "-guQYf9M9NaR"
      },
      "source": [
        "%pip install tensorflowjs"
      ],
      "execution_count": null,
      "outputs": []
    },
    {
      "cell_type": "code",
      "metadata": {
        "id": "nlN0PP2yrEom"
      },
      "source": [
        "!mkdir ~/.kaggle\n",
        "!echo '{\"username\":\"russelljjadams\",\"key\":\"8663873718532651184e331513a5ac02\"}' > ~/.kaggle/kaggle.json\n",
        "!chmod 600 ~/.kaggle/kaggle.json\n",
        "!pip install kaggle"
      ],
      "execution_count": null,
      "outputs": []
    },
    {
      "cell_type": "code",
      "metadata": {
        "id": "7EKHiTtVrW-x"
      },
      "source": [
        "!kaggle datasets list -s pokemon"
      ],
      "execution_count": null,
      "outputs": []
    },
    {
      "cell_type": "code",
      "metadata": {
        "id": "OdiqL0_Fr65e"
      },
      "source": [
        "!kaggle datasets download -d thedagger/pokemon-generation-one -p /content/kaggle/"
      ],
      "execution_count": null,
      "outputs": []
    },
    {
      "cell_type": "code",
      "metadata": {
        "id": "_Xojm2eGtjxx"
      },
      "source": [
        "%cd kaggle/"
      ],
      "execution_count": null,
      "outputs": []
    },
    {
      "cell_type": "code",
      "metadata": {
        "id": "8YqxRQTRsd6v"
      },
      "source": [
        "!mkdir train"
      ],
      "execution_count": null,
      "outputs": []
    },
    {
      "cell_type": "code",
      "metadata": {
        "id": "Fqy47F_sslgV"
      },
      "source": [
        "!unzip pokemon-generation-one.zip -d train/"
      ],
      "execution_count": null,
      "outputs": []
    },
    {
      "cell_type": "code",
      "metadata": {
        "colab": {
          "base_uri": "https://localhost:8080/"
        },
        "id": "XazaNRzbdCit",
        "outputId": "48fc5ffc-a0ec-4c53-e22f-625646e9fb1f"
      },
      "source": [
        "import os\n",
        "from keras.preprocessing import image\n",
        "\n",
        "train_path = \"/content/kaggle/train/dataset\"\n",
        "folders = os.listdir(train_path)\n",
        "# Uncommment the below statement to view the folders\n",
        "print(folders)\n",
        "\n",
        "image_data = []\n",
        "labels = []\n",
        "count = 0\n",
        "\n",
        "for ix in folders:\n",
        "    path = os.path.join(train_path, ix)\n",
        "    # Uncommment the below statement to view the path to the images and their labels\n",
        "    print(path, count) \n",
        "    for im in os.listdir(path):\n",
        "        try:\n",
        "            img = image.load_img(os.path.join(path,im), target_size = (224,224))\n",
        "            img_array = image.img_to_array(img)\n",
        "            image_data.append(img_array)\n",
        "            labels.append(count)\n",
        "        except:\n",
        "            pass\n",
        "    count += 1"
      ],
      "execution_count": null,
      "outputs": [
        {
          "output_type": "stream",
          "text": [
            "['Weedle', 'Seaking', 'Metapod', 'Ivysaur', 'Machoke', 'Seadra', 'Wartortle', 'Rhydon', 'Lickitung', 'Koffing', 'Pinsir', 'Dodrio', 'Nidoqueen', 'Horsea', 'Flareon', 'Machamp', 'Shellder', 'Jigglypuff', 'Dewgong', 'Kabutops', 'Poliwhirl', 'Tangela', 'Electabuzz', 'Venusaur', 'Persian', 'Beedrill', 'Muk', 'Bellsprout', 'Butterfree', 'Graveler', 'Fearow', 'Onix', 'Psyduck', 'Dratini', 'Caterpie', 'Weepinbell', 'Rapidash', 'Gyarados', 'Voltorb', 'Goldeen', 'Clefairy', 'Growlithe', 'Pidgeot', 'Ninetales', 'Kabuto', 'Kingler', 'Aerodactyl', 'Alakazam', 'Venomoth', 'Charmander', 'Vaporeon', 'Electrode', 'Primeape', 'Magikarp', 'Dragonite', 'Exeggcute', 'Eevee', 'Krabby', 'Blastoise', 'Charmeleon', 'Machop', 'Slowpoke', 'Zapdos', 'Sandshrew', 'Farfetchd', 'Cubone', 'Wigglytuff', 'Scyther', 'dataset', 'Weezing', 'Golem', 'Omastar', 'Tentacool', 'Dugtrio', 'Omanyte', 'Parasect', 'Oddish', 'Articuno', 'Gengar', 'Haunter', 'Sandslash', 'Charizard', 'Slowbro', 'Jynx', 'Ekans', 'Nidorina', 'Kadabra', 'Pidgeotto', 'Moltres', 'Starmie', 'Meowth', 'Vulpix', 'Nidoking', 'Mankey', 'Squirtle', 'Cloyster', 'Seel', 'Vileplume', 'Pikachu', 'Dragonair', 'Spearow', 'Lapras', 'Exeggutor', 'Hitmonlee', 'Snorlax', 'Poliwag', 'Zubat', 'Abra', 'Golbat', 'Kakuna', 'Magmar', 'Magnemite', 'Golduck', 'Gastly', 'Bulbasaur', 'Tentacruel', 'MrMime', 'Jolteon', 'Clefable', 'Raichu', 'Grimer', 'Paras', 'Magneton', 'Pidgey', 'Nidorino', 'Mew', 'Staryu', 'Drowzee', 'Raticate', 'Geodude', 'Rattata', 'Chansey', 'Tauros', 'Hitmonchan', 'Ponyta', 'Poliwrath', 'Rhyhorn', 'Diglett', 'Ditto', 'Venonat', 'Doduo', 'Hypno', 'Victreebel', 'Arcanine', 'Marowak', 'Mewtwo', 'Kangaskhan', 'Gloom', 'Porygon', 'Arbok']\n",
            "/content/kaggle/train/dataset/Weedle 0\n",
            "/content/kaggle/train/dataset/Seaking 1\n",
            "/content/kaggle/train/dataset/Metapod 2\n",
            "/content/kaggle/train/dataset/Ivysaur 3\n",
            "/content/kaggle/train/dataset/Machoke 4\n",
            "/content/kaggle/train/dataset/Seadra 5\n",
            "/content/kaggle/train/dataset/Wartortle 6\n",
            "/content/kaggle/train/dataset/Rhydon 7\n",
            "/content/kaggle/train/dataset/Lickitung 8\n",
            "/content/kaggle/train/dataset/Koffing 9\n",
            "/content/kaggle/train/dataset/Pinsir 10\n",
            "/content/kaggle/train/dataset/Dodrio 11\n",
            "/content/kaggle/train/dataset/Nidoqueen 12\n",
            "/content/kaggle/train/dataset/Horsea 13\n",
            "/content/kaggle/train/dataset/Flareon 14\n",
            "/content/kaggle/train/dataset/Machamp 15\n",
            "/content/kaggle/train/dataset/Shellder 16\n",
            "/content/kaggle/train/dataset/Jigglypuff 17\n",
            "/content/kaggle/train/dataset/Dewgong 18\n",
            "/content/kaggle/train/dataset/Kabutops 19\n",
            "/content/kaggle/train/dataset/Poliwhirl 20\n",
            "/content/kaggle/train/dataset/Tangela 21\n",
            "/content/kaggle/train/dataset/Electabuzz 22\n",
            "/content/kaggle/train/dataset/Venusaur 23\n",
            "/content/kaggle/train/dataset/Persian 24\n",
            "/content/kaggle/train/dataset/Beedrill 25\n",
            "/content/kaggle/train/dataset/Muk 26\n",
            "/content/kaggle/train/dataset/Bellsprout 27\n",
            "/content/kaggle/train/dataset/Butterfree 28\n",
            "/content/kaggle/train/dataset/Graveler 29\n",
            "/content/kaggle/train/dataset/Fearow 30\n",
            "/content/kaggle/train/dataset/Onix 31\n",
            "/content/kaggle/train/dataset/Psyduck 32\n",
            "/content/kaggle/train/dataset/Dratini 33\n",
            "/content/kaggle/train/dataset/Caterpie 34\n",
            "/content/kaggle/train/dataset/Weepinbell 35\n",
            "/content/kaggle/train/dataset/Rapidash 36\n",
            "/content/kaggle/train/dataset/Gyarados 37\n",
            "/content/kaggle/train/dataset/Voltorb 38\n",
            "/content/kaggle/train/dataset/Goldeen 39\n",
            "/content/kaggle/train/dataset/Clefairy 40\n",
            "/content/kaggle/train/dataset/Growlithe 41\n",
            "/content/kaggle/train/dataset/Pidgeot 42\n",
            "/content/kaggle/train/dataset/Ninetales 43\n",
            "/content/kaggle/train/dataset/Kabuto 44\n",
            "/content/kaggle/train/dataset/Kingler 45\n",
            "/content/kaggle/train/dataset/Aerodactyl 46\n",
            "/content/kaggle/train/dataset/Alakazam 47\n",
            "/content/kaggle/train/dataset/Venomoth 48\n",
            "/content/kaggle/train/dataset/Charmander 49\n"
          ],
          "name": "stdout"
        },
        {
          "output_type": "stream",
          "text": [
            "/usr/local/lib/python3.7/dist-packages/PIL/Image.py:960: UserWarning: Palette images with Transparency expressed in bytes should be converted to RGBA images\n",
            "  \"Palette images with Transparency expressed in bytes should be \"\n"
          ],
          "name": "stderr"
        },
        {
          "output_type": "stream",
          "text": [
            "/content/kaggle/train/dataset/Vaporeon 50\n",
            "/content/kaggle/train/dataset/Electrode 51\n",
            "/content/kaggle/train/dataset/Primeape 52\n",
            "/content/kaggle/train/dataset/Magikarp 53\n",
            "/content/kaggle/train/dataset/Dragonite 54\n",
            "/content/kaggle/train/dataset/Exeggcute 55\n",
            "/content/kaggle/train/dataset/Eevee 56\n",
            "/content/kaggle/train/dataset/Krabby 57\n",
            "/content/kaggle/train/dataset/Blastoise 58\n",
            "/content/kaggle/train/dataset/Charmeleon 59\n",
            "/content/kaggle/train/dataset/Machop 60\n",
            "/content/kaggle/train/dataset/Slowpoke 61\n",
            "/content/kaggle/train/dataset/Zapdos 62\n",
            "/content/kaggle/train/dataset/Sandshrew 63\n",
            "/content/kaggle/train/dataset/Farfetchd 64\n",
            "/content/kaggle/train/dataset/Cubone 65\n",
            "/content/kaggle/train/dataset/Wigglytuff 66\n",
            "/content/kaggle/train/dataset/Scyther 67\n",
            "/content/kaggle/train/dataset/dataset 68\n",
            "/content/kaggle/train/dataset/Weezing 69\n",
            "/content/kaggle/train/dataset/Golem 70\n",
            "/content/kaggle/train/dataset/Omastar 71\n",
            "/content/kaggle/train/dataset/Tentacool 72\n",
            "/content/kaggle/train/dataset/Dugtrio 73\n",
            "/content/kaggle/train/dataset/Omanyte 74\n",
            "/content/kaggle/train/dataset/Parasect 75\n",
            "/content/kaggle/train/dataset/Oddish 76\n",
            "/content/kaggle/train/dataset/Articuno 77\n",
            "/content/kaggle/train/dataset/Gengar 78\n",
            "/content/kaggle/train/dataset/Haunter 79\n",
            "/content/kaggle/train/dataset/Sandslash 80\n",
            "/content/kaggle/train/dataset/Charizard 81\n",
            "/content/kaggle/train/dataset/Slowbro 82\n",
            "/content/kaggle/train/dataset/Jynx 83\n",
            "/content/kaggle/train/dataset/Ekans 84\n",
            "/content/kaggle/train/dataset/Nidorina 85\n",
            "/content/kaggle/train/dataset/Kadabra 86\n",
            "/content/kaggle/train/dataset/Pidgeotto 87\n",
            "/content/kaggle/train/dataset/Moltres 88\n",
            "/content/kaggle/train/dataset/Starmie 89\n",
            "/content/kaggle/train/dataset/Meowth 90\n",
            "/content/kaggle/train/dataset/Vulpix 91\n",
            "/content/kaggle/train/dataset/Nidoking 92\n",
            "/content/kaggle/train/dataset/Mankey 93\n",
            "/content/kaggle/train/dataset/Squirtle 94\n",
            "/content/kaggle/train/dataset/Cloyster 95\n",
            "/content/kaggle/train/dataset/Seel 96\n",
            "/content/kaggle/train/dataset/Vileplume 97\n",
            "/content/kaggle/train/dataset/Pikachu 98\n",
            "/content/kaggle/train/dataset/Dragonair 99\n",
            "/content/kaggle/train/dataset/Spearow 100\n",
            "/content/kaggle/train/dataset/Lapras 101\n",
            "/content/kaggle/train/dataset/Exeggutor 102\n",
            "/content/kaggle/train/dataset/Hitmonlee 103\n",
            "/content/kaggle/train/dataset/Snorlax 104\n",
            "/content/kaggle/train/dataset/Poliwag 105\n",
            "/content/kaggle/train/dataset/Zubat 106\n",
            "/content/kaggle/train/dataset/Abra 107\n",
            "/content/kaggle/train/dataset/Golbat 108\n",
            "/content/kaggle/train/dataset/Kakuna 109\n",
            "/content/kaggle/train/dataset/Magmar 110\n",
            "/content/kaggle/train/dataset/Magnemite 111\n",
            "/content/kaggle/train/dataset/Golduck 112\n",
            "/content/kaggle/train/dataset/Gastly 113\n",
            "/content/kaggle/train/dataset/Bulbasaur 114\n",
            "/content/kaggle/train/dataset/Tentacruel 115\n",
            "/content/kaggle/train/dataset/MrMime 116\n",
            "/content/kaggle/train/dataset/Jolteon 117\n",
            "/content/kaggle/train/dataset/Clefable 118\n",
            "/content/kaggle/train/dataset/Raichu 119\n",
            "/content/kaggle/train/dataset/Grimer 120\n",
            "/content/kaggle/train/dataset/Paras 121\n",
            "/content/kaggle/train/dataset/Magneton 122\n",
            "/content/kaggle/train/dataset/Pidgey 123\n",
            "/content/kaggle/train/dataset/Nidorino 124\n",
            "/content/kaggle/train/dataset/Mew 125\n",
            "/content/kaggle/train/dataset/Staryu 126\n",
            "/content/kaggle/train/dataset/Drowzee 127\n",
            "/content/kaggle/train/dataset/Raticate 128\n",
            "/content/kaggle/train/dataset/Geodude 129\n",
            "/content/kaggle/train/dataset/Rattata 130\n",
            "/content/kaggle/train/dataset/Chansey 131\n",
            "/content/kaggle/train/dataset/Tauros 132\n",
            "/content/kaggle/train/dataset/Hitmonchan 133\n",
            "/content/kaggle/train/dataset/Ponyta 134\n",
            "/content/kaggle/train/dataset/Poliwrath 135\n",
            "/content/kaggle/train/dataset/Rhyhorn 136\n",
            "/content/kaggle/train/dataset/Diglett 137\n",
            "/content/kaggle/train/dataset/Ditto 138\n",
            "/content/kaggle/train/dataset/Venonat 139\n",
            "/content/kaggle/train/dataset/Doduo 140\n",
            "/content/kaggle/train/dataset/Hypno 141\n",
            "/content/kaggle/train/dataset/Victreebel 142\n",
            "/content/kaggle/train/dataset/Arcanine 143\n",
            "/content/kaggle/train/dataset/Marowak 144\n",
            "/content/kaggle/train/dataset/Mewtwo 145\n",
            "/content/kaggle/train/dataset/Kangaskhan 146\n",
            "/content/kaggle/train/dataset/Gloom 147\n",
            "/content/kaggle/train/dataset/Porygon 148\n",
            "/content/kaggle/train/dataset/Arbok 149\n"
          ],
          "name": "stdout"
        }
      ]
    },
    {
      "cell_type": "code",
      "metadata": {
        "id": "2_y--ZgId3WB"
      },
      "source": [
        "import random\n",
        "\n",
        "combined_dataset = list(zip(image_data, labels))\n",
        "random.shuffle(combined_dataset)\n",
        "image_data[:], labels[:] = zip(*combined_dataset)"
      ],
      "execution_count": null,
      "outputs": []
    },
    {
      "cell_type": "code",
      "metadata": {
        "id": "agzy3sOCd454"
      },
      "source": [
        "from keras.utils import np_utils\n",
        "import numpy as np\n",
        "\n",
        "X_train = np.array(image_data)\n",
        "Y_train = np.array(labels)\n",
        "\n",
        "Y_train = np_utils.to_categorical(Y_train)"
      ],
      "execution_count": null,
      "outputs": []
    },
    {
      "cell_type": "code",
      "metadata": {
        "colab": {
          "base_uri": "https://localhost:8080/"
        },
        "id": "tkg5EqDV-H-Z",
        "outputId": "e2504bfa-a671-4f68-b4a5-77456cdb7fa3"
      },
      "source": [
        "from tensorflow.keras.applications import ResNet50\n",
        "from tensorflow.keras.optimizers import Adam\n",
        "from tensorflow.keras.layers import *\n",
        "from tensorflow.keras.models import Model\n",
        "import numpy as np\n",
        "print(\"Imported Successfully!\")"
      ],
      "execution_count": null,
      "outputs": [
        {
          "output_type": "stream",
          "text": [
            "Imported Successfully!\n"
          ],
          "name": "stdout"
        }
      ]
    },
    {
      "cell_type": "code",
      "metadata": {
        "id": "2mCM0Jjt-Kf3"
      },
      "source": [
        "model = ResNet50(include_top = False, weights = 'imagenet', input_shape = (224,224,3))\n",
        "print(model.summary())"
      ],
      "execution_count": null,
      "outputs": []
    },
    {
      "cell_type": "code",
      "metadata": {
        "id": "1dj-ydwH-Opu"
      },
      "source": [
        "av1 = GlobalAveragePooling2D()(model.output)\n",
        "\n",
        "fc1 = Dense(256, activation = 'relu')(av1)\n",
        "\n",
        "d1 = Dropout(0.5)(fc1)\n",
        "\n",
        "fc2 = Dense(150, activation = 'softmax')(d1)"
      ],
      "execution_count": null,
      "outputs": []
    },
    {
      "cell_type": "code",
      "metadata": {
        "id": "btPzP0zF-Riw"
      },
      "source": [
        "model_new = Model(inputs = model.input, outputs = fc2)\n",
        "#model_new.summary()"
      ],
      "execution_count": null,
      "outputs": []
    },
    {
      "cell_type": "code",
      "metadata": {
        "id": "YnBKEaB0nJzJ"
      },
      "source": [
        "import tensorflow as tf\n",
        "model_new = tf.keras.models.load_model('/content/drive/MyDrive/DriveSyncFiles/z33rocoo1/projects/Deep Learning/Pokemon Classifier/saved_model/my_model_1')"
      ],
      "execution_count": null,
      "outputs": []
    },
    {
      "cell_type": "code",
      "metadata": {
        "id": "RnSfQy-v-VQD",
        "colab": {
          "base_uri": "https://localhost:8080/"
        },
        "outputId": "ac070cda-ab55-4400-bde0-84af20a022f1"
      },
      "source": [
        "adam = Adam(lr = 0.00003)\n",
        "model_new.compile(loss = 'categorical_crossentropy', optimizer = adam, metrics = ['accuracy'])"
      ],
      "execution_count": null,
      "outputs": [
        {
          "output_type": "stream",
          "text": [
            "/usr/local/lib/python3.7/dist-packages/tensorflow/python/keras/optimizer_v2/optimizer_v2.py:375: UserWarning: The `lr` argument is deprecated, use `learning_rate` instead.\n",
            "  \"The `lr` argument is deprecated, use `learning_rate` instead.\")\n"
          ],
          "name": "stderr"
        }
      ]
    },
    {
      "cell_type": "code",
      "metadata": {
        "colab": {
          "base_uri": "https://localhost:8080/"
        },
        "id": "WnECyh2M9cLt",
        "outputId": "3108dd77-fc93-49f7-a389-d75f0af90235"
      },
      "source": [
        "#Convert model to JavaScript\n",
        "import tensorflowjs as tfjs\n",
        "\n",
        "js_path = '/content/drive/MyDrive/DriveSyncFiles/z33rocoo1/projects/Deep Learning/Pokemon Classifier/saved_model_js/'\n",
        "tfjs.converters.save_keras_model(model_new, js_path)"
      ],
      "execution_count": null,
      "outputs": [
        {
          "output_type": "stream",
          "text": [
            "/usr/local/lib/python3.7/dist-packages/tensorflow/python/keras/utils/generic_utils.py:497: CustomMaskWarning: Custom mask layers require a config and must override get_config. When loading, the custom mask layer must be passed to the custom_objects argument.\n",
            "  category=CustomMaskWarning)\n"
          ],
          "name": "stderr"
        }
      ]
    },
    {
      "cell_type": "code",
      "metadata": {
        "id": "nYdP51bD-bgH"
      },
      "source": [
        "#for ix in range(169):\n",
        "#    model_new.layers[ix].trainable = False\n",
        "#print(model_new.summary())"
      ],
      "execution_count": null,
      "outputs": []
    },
    {
      "cell_type": "code",
      "metadata": {
        "id": "XJU5DYAs-dtP",
        "colab": {
          "base_uri": "https://localhost:8080/"
        },
        "outputId": "a1ac5735-1359-4211-caf4-602646141004"
      },
      "source": [
        "hist = model_new.fit(X_train, Y_train, shuffle = True, batch_size = 16, epochs = 1, validation_split = 0.20)"
      ],
      "execution_count": null,
      "outputs": [
        {
          "output_type": "stream",
          "text": [
            "534/534 [==============================] - 61s 106ms/step - loss: 0.1857 - accuracy: 0.9565 - val_loss: 0.1941 - val_accuracy: 0.9531\n"
          ],
          "name": "stdout"
        }
      ]
    },
    {
      "cell_type": "code",
      "metadata": {
        "colab": {
          "base_uri": "https://localhost:8080/"
        },
        "id": "IIn46dBjlcrv",
        "outputId": "29518932-ddc1-4cc3-9109-93a4a7b6cca1"
      },
      "source": [
        "model_new.save('saved_model/my_model_1')"
      ],
      "execution_count": null,
      "outputs": [
        {
          "output_type": "stream",
          "text": [
            "/usr/local/lib/python3.7/dist-packages/tensorflow/python/keras/utils/generic_utils.py:497: CustomMaskWarning: Custom mask layers require a config and must override get_config. When loading, the custom mask layer must be passed to the custom_objects argument.\n",
            "  category=CustomMaskWarning)\n"
          ],
          "name": "stderr"
        },
        {
          "output_type": "stream",
          "text": [
            "INFO:tensorflow:Assets written to: saved_model/my_model_1/assets\n"
          ],
          "name": "stdout"
        }
      ]
    },
    {
      "cell_type": "code",
      "metadata": {
        "colab": {
          "base_uri": "https://localhost:8080/"
        },
        "id": "ujXpUUf7hkLJ",
        "outputId": "451a1920-7b19-4246-97e4-c7fe835fed91"
      },
      "source": [
        "from keras.applications.resnet50 import preprocess_input\n",
        "\n",
        "image_path = '/content/drive/MyDrive/DriveSyncFiles/z33rocoo1/projects/Deep Learning/Pokemon Classifier/pikachu.png'\n",
        "img = image.load_img(image_path,target_size = (224,224))\n",
        "x = image.img_to_array(img)\n",
        "x = np.expand_dims(x,axis=0)\n",
        "x = preprocess_input(x)\n",
        "\n",
        "pred = model_new.predict(x)\n",
        "print(np.argmax(pred))"
      ],
      "execution_count": null,
      "outputs": [
        {
          "output_type": "stream",
          "text": [
            "98\n"
          ],
          "name": "stdout"
        }
      ]
    },
    {
      "cell_type": "code",
      "metadata": {
        "colab": {
          "base_uri": "https://localhost:8080/"
        },
        "id": "hdfLjspYh3rj",
        "outputId": "594637ef-de19-47c5-cbaa-9426c0a2f634"
      },
      "source": [
        "from keras.applications.resnet50 import preprocess_input\n",
        "\n",
        "image_path = '/content/drive/MyDrive/DriveSyncFiles/z33rocoo1/projects/Deep Learning/Pokemon Classifier/charmander.jpg'\n",
        "img = image.load_img(image_path,target_size = (224,224))\n",
        "x = image.img_to_array(img)\n",
        "x = np.expand_dims(x,axis=0)\n",
        "x = preprocess_input(x)\n",
        "\n",
        "pred = model_new.predict(x)\n",
        "print(np.argmax(pred))"
      ],
      "execution_count": null,
      "outputs": [
        {
          "output_type": "stream",
          "text": [
            "49\n"
          ],
          "name": "stdout"
        }
      ]
    },
    {
      "cell_type": "code",
      "metadata": {
        "colab": {
          "base_uri": "https://localhost:8080/"
        },
        "id": "jJSRAQ1p4na_",
        "outputId": "e4bddad2-b5e2-4f5b-dc8a-452adb3b2127"
      },
      "source": [
        "from keras.applications.resnet50 import preprocess_input\n",
        "\n",
        "image_path = '/content/drive/MyDrive/DriveSyncFiles/z33rocoo1/projects/Deep Learning/Pokemon Classifier/charizard2.jpg'\n",
        "img = image.load_img(image_path,target_size = (224,224))\n",
        "x = image.img_to_array(img)\n",
        "x = np.expand_dims(x,axis=0)\n",
        "x = preprocess_input(x)\n",
        "\n",
        "pred = model_new.predict(x)\n",
        "print(np.argmax(pred))"
      ],
      "execution_count": null,
      "outputs": [
        {
          "output_type": "stream",
          "text": [
            "81\n"
          ],
          "name": "stdout"
        }
      ]
    },
    {
      "cell_type": "code",
      "metadata": {
        "colab": {
          "base_uri": "https://localhost:8080/"
        },
        "id": "LBUuQTdA4nkS",
        "outputId": "35e17b0f-30a7-47a2-d20a-98626a2afeb8"
      },
      "source": [
        "from keras.applications.resnet50 import preprocess_input\n",
        "\n",
        "image_path = '/content/drive/MyDrive/DriveSyncFiles/z33rocoo1/projects/Deep Learning/Pokemon Classifier/mew.jpg'\n",
        "img = image.load_img(image_path,target_size = (224,224))\n",
        "x = image.img_to_array(img)\n",
        "x = np.expand_dims(x,axis=0)\n",
        "x = preprocess_input(x)\n",
        "\n",
        "pred = model_new.predict(x)\n",
        "print(np.argmax(pred))"
      ],
      "execution_count": null,
      "outputs": [
        {
          "output_type": "stream",
          "text": [
            "125\n"
          ],
          "name": "stdout"
        }
      ]
    }
  ]
}