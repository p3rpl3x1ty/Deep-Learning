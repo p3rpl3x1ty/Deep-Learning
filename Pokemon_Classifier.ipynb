{
  "nbformat": 4,
  "nbformat_minor": 0,
  "metadata": {
    "colab": {
      "name": "Pokemon-Classifier.ipynb",
      "provenance": [],
      "mount_file_id": "1ziyvUO6C9WmEg4V3JmNPliDw9uHkfyIa",
      "authorship_tag": "ABX9TyNrjxDBCZ6250w3XLLx2wK/",
      "include_colab_link": true
    },
    "kernelspec": {
      "name": "python3",
      "display_name": "Python 3"
    },
    "language_info": {
      "name": "python"
    },
    "accelerator": "GPU"
  },
  "cells": [
    {
      "cell_type": "markdown",
      "metadata": {
        "id": "view-in-github",
        "colab_type": "text"
      },
      "source": [
        "<a href=\"https://colab.research.google.com/github/p3rpl3x1ty/Deep-Learning/blob/main/Pokemon_Classifier.ipynb\" target=\"_parent\"><img src=\"https://colab.research.google.com/assets/colab-badge.svg\" alt=\"Open In Colab\"/></a>"
      ]
    },
    {
      "cell_type": "code",
      "metadata": {
        "colab": {
          "base_uri": "https://localhost:8080/"
        },
        "id": "r7a2tPzhLtv1",
        "outputId": "3b58789e-5eca-41a1-ec19-db5a29bd8170"
      },
      "source": [
        "import os\n",
        "from keras.preprocessing import image\n",
        "\n",
        "train_path = \"/content/drive/MyDrive/DriveSyncFiles/z33rocoo1/projects/Deep Learning/Pokemon Classifier/Train\"\n",
        "folders = os.listdir(train_path)\n",
        "# Uncommment the below statement to view the folders\n",
        "print(folders)\n",
        "\n",
        "image_data = []\n",
        "labels = []\n",
        "count = 0\n",
        "\n",
        "for ix in folders:\n",
        "    path = os.path.join(train_path, ix)\n",
        "    # Uncommment the below statement to view the path to the images and their labels\n",
        "    print(path, count) \n",
        "    for im in os.listdir(path):\n",
        "        try:\n",
        "            img = image.load_img(os.path.join(path,im), target_size = (224,224))\n",
        "            img_array = image.img_to_array(img)\n",
        "            image_data.append(img_array)\n",
        "            labels.append(count)\n",
        "        except:\n",
        "            pass\n",
        "    count += 1"
      ],
      "execution_count": null,
      "outputs": [
        {
          "output_type": "stream",
          "text": [
            "['Fearow', 'Meowth', 'Pikachu', 'Dratini', 'Spearow', 'Psyduck', 'Squirtle', 'Bulbasaur', 'Charmander', 'Aerodactyl']\n",
            "/content/drive/MyDrive/DriveSyncFiles/z33rocoo1/projects/Deep Learning/Pokemon Classifier/Train/Fearow 0\n",
            "/content/drive/MyDrive/DriveSyncFiles/z33rocoo1/projects/Deep Learning/Pokemon Classifier/Train/Meowth 1\n",
            "/content/drive/MyDrive/DriveSyncFiles/z33rocoo1/projects/Deep Learning/Pokemon Classifier/Train/Pikachu 2\n"
          ],
          "name": "stdout"
        },
        {
          "output_type": "stream",
          "text": [
            "/usr/local/lib/python3.7/dist-packages/PIL/Image.py:960: UserWarning: Palette images with Transparency expressed in bytes should be converted to RGBA images\n",
            "  \"Palette images with Transparency expressed in bytes should be \"\n"
          ],
          "name": "stderr"
        },
        {
          "output_type": "stream",
          "text": [
            "/content/drive/MyDrive/DriveSyncFiles/z33rocoo1/projects/Deep Learning/Pokemon Classifier/Train/Dratini 3\n",
            "/content/drive/MyDrive/DriveSyncFiles/z33rocoo1/projects/Deep Learning/Pokemon Classifier/Train/Spearow 4\n",
            "/content/drive/MyDrive/DriveSyncFiles/z33rocoo1/projects/Deep Learning/Pokemon Classifier/Train/Psyduck 5\n",
            "/content/drive/MyDrive/DriveSyncFiles/z33rocoo1/projects/Deep Learning/Pokemon Classifier/Train/Squirtle 6\n",
            "/content/drive/MyDrive/DriveSyncFiles/z33rocoo1/projects/Deep Learning/Pokemon Classifier/Train/Bulbasaur 7\n",
            "/content/drive/MyDrive/DriveSyncFiles/z33rocoo1/projects/Deep Learning/Pokemon Classifier/Train/Charmander 8\n",
            "/content/drive/MyDrive/DriveSyncFiles/z33rocoo1/projects/Deep Learning/Pokemon Classifier/Train/Aerodactyl 9\n"
          ],
          "name": "stdout"
        }
      ]
    },
    {
      "cell_type": "code",
      "metadata": {
        "id": "-Pb7VoY0UOVl"
      },
      "source": [
        "import random\n",
        "\n",
        "combined_dataset = list(zip(image_data, labels))\n",
        "random.shuffle(combined_dataset)\n",
        "image_data[:], labels[:] = zip(*combined_dataset)"
      ],
      "execution_count": null,
      "outputs": []
    },
    {
      "cell_type": "code",
      "metadata": {
        "id": "SsMTp01UURjt"
      },
      "source": [
        "from keras.utils import np_utils\n",
        "import numpy as np\n",
        "X_train = np.array(image_data)\n",
        "Y_train = np.array(labels)\n",
        "\n",
        "Y_train = np_utils.to_categorical(Y_train)"
      ],
      "execution_count": null,
      "outputs": []
    },
    {
      "cell_type": "code",
      "metadata": {
        "colab": {
          "base_uri": "https://localhost:8080/"
        },
        "id": "goIbiHKOUfzI",
        "outputId": "f46c91fc-eabc-4733-af45-5a08b4f4a26f"
      },
      "source": [
        "from tensorflow.keras.applications import ResNet50\n",
        "from tensorflow.keras.optimizers import Adam\n",
        "from tensorflow.keras.layers import *\n",
        "from tensorflow.keras.models import Model\n",
        "import numpy as np\n",
        "print(\"Imported Successfully!\")"
      ],
      "execution_count": null,
      "outputs": [
        {
          "output_type": "stream",
          "text": [
            "Imported Successfully!\n"
          ],
          "name": "stdout"
        }
      ]
    },
    {
      "cell_type": "code",
      "metadata": {
        "colab": {
          "base_uri": "https://localhost:8080/"
        },
        "id": "hzhuPrivUwD1",
        "outputId": "d358f9f0-c3ee-4be1-bbb5-8a04c8455370"
      },
      "source": [
        "model = ResNet50(include_top = False, weights = 'imagenet', input_shape = (224,224,3))\n",
        "#print(model.summary())"
      ],
      "execution_count": null,
      "outputs": [
        {
          "output_type": "stream",
          "text": [
            "Downloading data from https://storage.googleapis.com/tensorflow/keras-applications/resnet/resnet50_weights_tf_dim_ordering_tf_kernels_notop.h5\n",
            "94773248/94765736 [==============================] - 1s 0us/step\n"
          ],
          "name": "stdout"
        }
      ]
    },
    {
      "cell_type": "code",
      "metadata": {
        "id": "OLFy4FZ_U0cL"
      },
      "source": [
        "av1 = GlobalAveragePooling2D()(model.output)\n",
        "\n",
        "fc1 = Dense(256, activation = 'relu')(av1)\n",
        "\n",
        "d1 = Dropout(0.5)(fc1)\n",
        "\n",
        "fc2 = Dense(10, activation = 'softmax')(d1)"
      ],
      "execution_count": null,
      "outputs": []
    },
    {
      "cell_type": "code",
      "metadata": {
        "id": "C0_JpuYNU38W"
      },
      "source": [
        "model_new = Model(inputs = model.input, outputs = fc2)\n",
        "model_new.summary()"
      ],
      "execution_count": null,
      "outputs": []
    },
    {
      "cell_type": "code",
      "metadata": {
        "colab": {
          "base_uri": "https://localhost:8080/"
        },
        "id": "Bfco6QJkVL8T",
        "outputId": "5b7184ba-1acf-4f49-f2ca-cc6b17d64bcc"
      },
      "source": [
        "from keras.applications.resnet50 import preprocess_input\n",
        "\n",
        "image_path = '/content/drive/MyDrive/DriveSyncFiles/z33rocoo1/projects/Deep Learning/Pokemon Classifier/psyduck.jpg'\n",
        "img = image.load_img(image_path,target_size = (224,224))\n",
        "x = image.img_to_array(img)\n",
        "x = np.expand_dims(x,axis=0)\n",
        "x = preprocess_input(x)\n",
        "\n",
        "pred = model_new.predict(x)\n",
        "print(np.argmax(pred))"
      ],
      "execution_count": null,
      "outputs": [
        {
          "output_type": "stream",
          "text": [
            "1\n"
          ],
          "name": "stdout"
        }
      ]
    },
    {
      "cell_type": "code",
      "metadata": {
        "colab": {
          "base_uri": "https://localhost:8080/"
        },
        "id": "0iCEJEYcgeWM",
        "outputId": "0b079580-79a1-4c37-b014-227161f4b0b8"
      },
      "source": [
        "adam = Adam(lr = 0.00003)\n",
        "model_new.compile(loss = 'categorical_crossentropy', optimizer = adam, metrics = ['accuracy'])"
      ],
      "execution_count": null,
      "outputs": [
        {
          "output_type": "stream",
          "text": [
            "/usr/local/lib/python3.7/dist-packages/tensorflow/python/keras/optimizer_v2/optimizer_v2.py:375: UserWarning: The `lr` argument is deprecated, use `learning_rate` instead.\n",
            "  \"The `lr` argument is deprecated, use `learning_rate` instead.\")\n"
          ],
          "name": "stderr"
        }
      ]
    },
    {
      "cell_type": "code",
      "metadata": {
        "id": "LkJ3VJsvgpL_"
      },
      "source": [
        "for ix in range(169):\n",
        "    model_new.layers[ix].trainable = False\n",
        "print(model_new.summary())"
      ],
      "execution_count": null,
      "outputs": []
    },
    {
      "cell_type": "code",
      "metadata": {
        "id": "60mMLwSIgtEX"
      },
      "source": [
        "hist = model_new.fit(X_train, Y_train, shuffle = True, batch_size = 16, epochs = 8, validation_split = 0.20)"
      ],
      "execution_count": null,
      "outputs": []
    },
    {
      "cell_type": "code",
      "metadata": {
        "colab": {
          "base_uri": "https://localhost:8080/"
        },
        "id": "tm75B2fR2g2b",
        "outputId": "a01a4ebd-bd51-4fbd-d3e8-377776cdd6fb"
      },
      "source": [
        "from keras.applications.resnet50 import preprocess_input\n",
        "\n",
        "image_path = '/content/drive/MyDrive/DriveSyncFiles/z33rocoo1/projects/Deep Learning/Pokemon Classifier/aerodactyl.jpg'\n",
        "img = image.load_img(image_path,target_size = (224,224))\n",
        "x = image.img_to_array(img)\n",
        "x = np.expand_dims(x,axis=0)\n",
        "x = preprocess_input(x)\n",
        "\n",
        "pred = model_new.predict(x)\n",
        "print(np.argmax(pred))"
      ],
      "execution_count": null,
      "outputs": [
        {
          "output_type": "stream",
          "text": [
            "9\n"
          ],
          "name": "stdout"
        }
      ]
    },
    {
      "cell_type": "code",
      "metadata": {
        "colab": {
          "base_uri": "https://localhost:8080/"
        },
        "id": "G2XA0O0G2jO8",
        "outputId": "76fc156f-80c0-481e-aef2-40c93fb52d3b"
      },
      "source": [
        "from keras.applications.resnet50 import preprocess_input\n",
        "\n",
        "image_path = '/content/drive/MyDrive/DriveSyncFiles/z33rocoo1/projects/Deep Learning/Pokemon Classifier/bulbasaur.png'\n",
        "img = image.load_img(image_path,target_size = (224,224))\n",
        "x = image.img_to_array(img)\n",
        "x = np.expand_dims(x,axis=0)\n",
        "x = preprocess_input(x)\n",
        "\n",
        "pred = model_new.predict(x)\n",
        "print(np.argmax(pred))"
      ],
      "execution_count": null,
      "outputs": [
        {
          "output_type": "stream",
          "text": [
            "7\n"
          ],
          "name": "stdout"
        }
      ]
    },
    {
      "cell_type": "code",
      "metadata": {
        "colab": {
          "base_uri": "https://localhost:8080/"
        },
        "id": "4xkvH36S2jZ3",
        "outputId": "a2e60181-97d3-47f1-d205-c01db1139da6"
      },
      "source": [
        "from keras.applications.resnet50 import preprocess_input\n",
        "\n",
        "image_path = '/content/drive/MyDrive/DriveSyncFiles/z33rocoo1/projects/Deep Learning/Pokemon Classifier/charmander.jpg'\n",
        "img = image.load_img(image_path,target_size = (224,224))\n",
        "x = image.img_to_array(img)\n",
        "x = np.expand_dims(x,axis=0)\n",
        "x = preprocess_input(x)\n",
        "\n",
        "pred = model_new.predict(x)\n",
        "print(np.argmax(pred))"
      ],
      "execution_count": null,
      "outputs": [
        {
          "output_type": "stream",
          "text": [
            "8\n"
          ],
          "name": "stdout"
        }
      ]
    },
    {
      "cell_type": "code",
      "metadata": {
        "colab": {
          "base_uri": "https://localhost:8080/"
        },
        "id": "TQrts8nA2jj6",
        "outputId": "9510c426-374e-4d5a-cbe6-9dd1ed665115"
      },
      "source": [
        "from keras.applications.resnet50 import preprocess_input\n",
        "\n",
        "image_path = '/content/drive/MyDrive/DriveSyncFiles/z33rocoo1/projects/Deep Learning/Pokemon Classifier/dratini.jpg'\n",
        "img = image.load_img(image_path,target_size = (224,224))\n",
        "x = image.img_to_array(img)\n",
        "x = np.expand_dims(x,axis=0)\n",
        "x = preprocess_input(x)\n",
        "\n",
        "pred = model_new.predict(x)\n",
        "print(np.argmax(pred))"
      ],
      "execution_count": null,
      "outputs": [
        {
          "output_type": "stream",
          "text": [
            "3\n"
          ],
          "name": "stdout"
        }
      ]
    },
    {
      "cell_type": "code",
      "metadata": {
        "colab": {
          "base_uri": "https://localhost:8080/"
        },
        "id": "aMRAIC9n2jqO",
        "outputId": "d16de02b-16be-4652-da26-4c0f4bd8c68f"
      },
      "source": [
        "from keras.applications.resnet50 import preprocess_input\n",
        "\n",
        "image_path = '/content/drive/MyDrive/DriveSyncFiles/z33rocoo1/projects/Deep Learning/Pokemon Classifier/fearow.png'\n",
        "img = image.load_img(image_path,target_size = (224,224))\n",
        "x = image.img_to_array(img)\n",
        "x = np.expand_dims(x,axis=0)\n",
        "x = preprocess_input(x)\n",
        "\n",
        "pred = model_new.predict(x)\n",
        "print(np.argmax(pred))"
      ],
      "execution_count": null,
      "outputs": [
        {
          "output_type": "stream",
          "text": [
            "0\n"
          ],
          "name": "stdout"
        }
      ]
    },
    {
      "cell_type": "code",
      "metadata": {
        "colab": {
          "base_uri": "https://localhost:8080/"
        },
        "id": "PBMD1ihFwBBP",
        "outputId": "dee6404f-ca04-44ac-ee0c-e7a29d61362e"
      },
      "source": [
        "from keras.applications.resnet50 import preprocess_input\n",
        "\n",
        "image_path = '/content/drive/MyDrive/DriveSyncFiles/z33rocoo1/projects/Deep Learning/Pokemon Classifier/meowth.jpg'\n",
        "img = image.load_img(image_path,target_size = (224,224))\n",
        "x = image.img_to_array(img)\n",
        "x = np.expand_dims(x,axis=0)\n",
        "x = preprocess_input(x)\n",
        "\n",
        "pred = model_new.predict(x)\n",
        "print(np.argmax(pred))"
      ],
      "execution_count": null,
      "outputs": [
        {
          "output_type": "stream",
          "text": [
            "1\n"
          ],
          "name": "stdout"
        }
      ]
    },
    {
      "cell_type": "code",
      "metadata": {
        "colab": {
          "base_uri": "https://localhost:8080/"
        },
        "id": "mIlqTtdj24uC",
        "outputId": "a9e45554-cc54-4a5d-f860-69fc9e77793a"
      },
      "source": [
        "from keras.applications.resnet50 import preprocess_input\n",
        "\n",
        "image_path = '/content/drive/MyDrive/DriveSyncFiles/z33rocoo1/projects/Deep Learning/Pokemon Classifier/pikachu.png'\n",
        "img = image.load_img(image_path,target_size = (224,224))\n",
        "x = image.img_to_array(img)\n",
        "x = np.expand_dims(x,axis=0)\n",
        "x = preprocess_input(x)\n",
        "\n",
        "pred = model_new.predict(x)\n",
        "print(np.argmax(pred))"
      ],
      "execution_count": null,
      "outputs": [
        {
          "output_type": "stream",
          "text": [
            "2\n"
          ],
          "name": "stdout"
        }
      ]
    },
    {
      "cell_type": "code",
      "metadata": {
        "colab": {
          "base_uri": "https://localhost:8080/"
        },
        "id": "ZCxHIGpq25wa",
        "outputId": "3f5e75e2-6046-44e9-c7ca-cbe0c21e7190"
      },
      "source": [
        "from keras.applications.resnet50 import preprocess_input\n",
        "\n",
        "image_path = '/content/drive/MyDrive/DriveSyncFiles/z33rocoo1/projects/Deep Learning/Pokemon Classifier/psyduck.png'\n",
        "img = image.load_img(image_path,target_size = (224,224))\n",
        "x = image.img_to_array(img)\n",
        "x = np.expand_dims(x,axis=0)\n",
        "x = preprocess_input(x)\n",
        "\n",
        "pred = model_new.predict(x)\n",
        "print(np.argmax(pred))"
      ],
      "execution_count": null,
      "outputs": [
        {
          "output_type": "stream",
          "text": [
            "5\n"
          ],
          "name": "stdout"
        }
      ]
    },
    {
      "cell_type": "code",
      "metadata": {
        "colab": {
          "base_uri": "https://localhost:8080/"
        },
        "id": "e07xDTvQuaG8",
        "outputId": "e450f294-29af-43c3-f50f-a95a8c56c9a1"
      },
      "source": [
        "from keras.applications.resnet50 import preprocess_input\n",
        "\n",
        "image_path = '/content/drive/MyDrive/DriveSyncFiles/z33rocoo1/projects/Deep Learning/Pokemon Classifier/spearow.jpg'\n",
        "img = image.load_img(image_path,target_size = (224,224))\n",
        "x = image.img_to_array(img)\n",
        "x = np.expand_dims(x,axis=0)\n",
        "x = preprocess_input(x)\n",
        "\n",
        "pred = model_new.predict(x)\n",
        "print(np.argmax(pred))"
      ],
      "execution_count": null,
      "outputs": [
        {
          "output_type": "stream",
          "text": [
            "4\n"
          ],
          "name": "stdout"
        }
      ]
    },
    {
      "cell_type": "code",
      "metadata": {
        "colab": {
          "base_uri": "https://localhost:8080/"
        },
        "id": "VdmQzQOC3Coy",
        "outputId": "239dce33-c8bd-444a-e710-59d5e5fed6c6"
      },
      "source": [
        "from keras.applications.resnet50 import preprocess_input\n",
        "\n",
        "image_path = '/content/drive/MyDrive/DriveSyncFiles/z33rocoo1/projects/Deep Learning/Pokemon Classifier/squirtle.png'\n",
        "img = image.load_img(image_path,target_size = (224,224))\n",
        "x = image.img_to_array(img)\n",
        "x = np.expand_dims(x,axis=0)\n",
        "x = preprocess_input(x)\n",
        "\n",
        "pred = model_new.predict(x)\n",
        "print(np.argmax(pred))"
      ],
      "execution_count": null,
      "outputs": [
        {
          "output_type": "stream",
          "text": [
            "6\n"
          ],
          "name": "stdout"
        }
      ]
    }
  ]
}